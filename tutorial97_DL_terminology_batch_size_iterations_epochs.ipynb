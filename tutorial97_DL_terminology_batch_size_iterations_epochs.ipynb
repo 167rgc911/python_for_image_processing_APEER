{
  "nbformat": 4,
  "nbformat_minor": 0,
  "metadata": {
    "colab": {
      "name": "tutorial97_DL_terminology_batch_size_iterations_epochs.ipynb",
      "provenance": [],
      "collapsed_sections": [],
      "mount_file_id": "1mr1ThepWeXzPbQqJtAB6d6aKtFXlrE5z",
      "authorship_tag": "ABX9TyPDF4gVaA7JmIdFE91naLQc",
      "include_colab_link": true
    },
    "kernelspec": {
      "name": "python3",
      "display_name": "Python 3"
    },
    "accelerator": "GPU"
  },
  "cells": [
    {
      "cell_type": "markdown",
      "metadata": {
        "id": "view-in-github",
        "colab_type": "text"
      },
      "source": [
        "<a href=\"https://colab.research.google.com/github/bnsreenu/python_for_image_processing_APEER/blob/master/tutorial97_DL_terminology_batch_size_iterations_epochs.ipynb\" target=\"_parent\"><img src=\"https://colab.research.google.com/assets/colab-badge.svg\" alt=\"Open In Colab\"/></a>"
      ]
    },
    {
      "cell_type": "markdown",
      "metadata": {
        "id": "d49Y3R4PJEhC"
      },
      "source": [
        "https://youtu.be/OSY7hWADMZk"
      ]
    },
    {
      "cell_type": "markdown",
      "metadata": {
        "id": "GStqCcwvYMCE"
      },
      "source": [
        "Do not forget to sign up for your free APEER account to use pre-built machine learning tools for semantic and instance segmentation\n",
        "www.apeer.com"
      ]
    },
    {
      "cell_type": "code",
      "metadata": {
        "id": "Ex9OhzR8XS4d"
      },
      "source": [
        "\"\"\"\n",
        "Dataset information:\n",
        "https://archive.ics.uci.edu/ml/datasets/Breast+Cancer+Wisconsin+(Diagnostic)\n",
        "## 'data.frame':    569 obs. of  31 variables:\n",
        "##  $ diagnosis              : Factor w/ 2 levels \"Benign\",\"Malignant\": 2 2 2 2 2 2 2 2 2 2 ...\n",
        "##  $ radius_mean            : num  18 20.6 19.7 11.4 20.3 ...\n",
        "##  $ texture_mean           : num  10.4 17.8 21.2 20.4 14.3 ...\n",
        "##  $ perimeter_mean         : num  122.8 132.9 130 77.6 135.1 ...\n",
        "##  $ area_mean              : num  1001 1326 1203 386 1297 ...\n",
        "##  $ smoothness_mean        : num  0.1184 0.0847 0.1096 0.1425 0.1003 ...\n",
        "##  $ compactness_mean       : num  0.2776 0.0786 0.1599 0.2839 0.1328 ...\n",
        "##  $ concavity_mean         : num  0.3001 0.0869 0.1974 0.2414 0.198 ...\n",
        "##  $ concave.points_mean    : num  0.1471 0.0702 0.1279 0.1052 0.1043 ...\n",
        "##  $ symmetry_mean          : num  0.242 0.181 0.207 0.26 0.181 ...\n",
        "##  $ fractal_dimension_mean : num  0.0787 0.0567 0.06 0.0974 0.0588 ...\n",
        "##  $ radius_se              : num  1.095 0.543 0.746 0.496 0.757 ...\n",
        "##  $ texture_se             : num  0.905 0.734 0.787 1.156 0.781 ...\n",
        "##  $ perimeter_se           : num  8.59 3.4 4.58 3.44 5.44 ...\n",
        "##  $ area_se                : num  153.4 74.1 94 27.2 94.4 ...\n",
        "##  $ smoothness_se          : num  0.0064 0.00522 0.00615 0.00911 0.01149 ...\n",
        "##  $ compactness_se         : num  0.049 0.0131 0.0401 0.0746 0.0246 ...\n",
        "##  $ concavity_se           : num  0.0537 0.0186 0.0383 0.0566 0.0569 ...\n",
        "##  $ concave.points_se      : num  0.0159 0.0134 0.0206 0.0187 0.0188 ...\n",
        "##  $ symmetry_se            : num  0.03 0.0139 0.0225 0.0596 0.0176 ...\n",
        "##  $ fractal_dimension_se   : num  0.00619 0.00353 0.00457 0.00921 0.00511 ...\n",
        "##  $ radius_worst           : num  25.4 25 23.6 14.9 22.5 ...\n",
        "##  $ texture_worst          : num  17.3 23.4 25.5 26.5 16.7 ...\n",
        "##  $ perimeter_worst        : num  184.6 158.8 152.5 98.9 152.2 ...\n",
        "##  $ area_worst             : num  2019 1956 1709 568 1575 ...\n",
        "##  $ smoothness_worst       : num  0.162 0.124 0.144 0.21 0.137 ...\n",
        "##  $ compactness_worst      : num  0.666 0.187 0.424 0.866 0.205 ...\n",
        "##  $ concavity_worst        : num  0.712 0.242 0.45 0.687 0.4 ...\n",
        "##  $ concave.points_worst   : num  0.265 0.186 0.243 0.258 0.163 ...\n",
        "##  $ symmetry_worst         : num  0.46 0.275 0.361 0.664 0.236 ...\n",
        "##  $ fractal_dimension_worst: num  0.1189 0.089 0.0876 0.173 0.0768 ...\n",
        "\n",
        "\"\"\""
      ],
      "execution_count": null,
      "outputs": []
    },
    {
      "cell_type": "code",
      "metadata": {
        "id": "LvcZWwuGYCJO"
      },
      "source": [
        "import pandas as pd\n",
        "from matplotlib import pyplot as plt\n",
        "import seaborn as sns\n",
        "import numpy as np"
      ],
      "execution_count": null,
      "outputs": []
    },
    {
      "cell_type": "code",
      "metadata": {
        "id": "KA-qsHWMYMfm"
      },
      "source": [
        "df = pd.read_csv(\"/content/drive/MyDrive/Colab Notebooks/data/wisconsin_breast_cancer_dataset.csv\")"
      ],
      "execution_count": null,
      "outputs": []
    },
    {
      "cell_type": "code",
      "metadata": {
        "id": "O2THPyFpYUtw"
      },
      "source": [
        "print(df.describe().T)"
      ],
      "execution_count": null,
      "outputs": []
    },
    {
      "cell_type": "code",
      "metadata": {
        "id": "vnjyJZThYqPg"
      },
      "source": [
        "print(df.isnull().sum())\n",
        "#df = df.dropna()"
      ],
      "execution_count": null,
      "outputs": []
    },
    {
      "cell_type": "code",
      "metadata": {
        "id": "1EUWeZDgY0NA"
      },
      "source": [
        "#Rename Dataset to Label to make it easy to understand\n",
        "df = df.rename(columns={'Diagnosis':'Label'})\n",
        "print(df.dtypes)"
      ],
      "execution_count": null,
      "outputs": []
    },
    {
      "cell_type": "code",
      "metadata": {
        "id": "U-ZYTxkGZDdy"
      },
      "source": [
        "#Understand the data \n",
        "sns.countplot(x=\"Label\", data=df) #M - malignant   B - benign"
      ],
      "execution_count": null,
      "outputs": []
    },
    {
      "cell_type": "code",
      "metadata": {
        "id": "sHf0pr6mZ-sS"
      },
      "source": [
        "####### Replace categorical values with numbers########\n",
        "print(\"Distribution of data: \", df['Label'].value_counts())\n",
        "\n",
        "#Define the dependent variable that needs to be predicted (labels)\n",
        "y = df[\"Label\"].values\n",
        "print(\"Labels before encoding are: \", np.unique(y))\n",
        "\n",
        "# Encoding categorical data from text (B and M) to integers (0 and 1)\n",
        "from sklearn.preprocessing import LabelEncoder\n",
        "labelencoder = LabelEncoder()\n",
        "Y = labelencoder.fit_transform(y) # M=1 and B=0\n",
        "print(\"Labels after encoding are: \", np.unique(Y))"
      ],
      "execution_count": null,
      "outputs": []
    },
    {
      "cell_type": "code",
      "metadata": {
        "id": "k4yc60BVajj9"
      },
      "source": [
        "#Define x and normalize / scale values\n",
        "\n",
        "#Define the independent variables. Drop label and ID, and normalize other data\n",
        "X = df.drop(labels = [\"Label\", \"ID\"], axis=1) \n",
        "print(X.describe().T) #Needs scaling"
      ],
      "execution_count": null,
      "outputs": []
    },
    {
      "cell_type": "code",
      "metadata": {
        "id": "IFVtqnTHbCS9"
      },
      "source": [
        "#Scale / normalize the values to bring them to similar range\n",
        "from sklearn.preprocessing import MinMaxScaler\n",
        "scaler = MinMaxScaler()\n",
        "scaler.fit(X)\n",
        "X = scaler.transform(X)\n",
        "print(X)  #Scaled values"
      ],
      "execution_count": null,
      "outputs": []
    },
    {
      "cell_type": "code",
      "metadata": {
        "id": "HjCYDT5kbUTz"
      },
      "source": [
        "#Split data into train and test to verify accuracy after fitting the model. \n",
        "from sklearn.model_selection import train_test_split\n",
        "X_train, X_test, y_train, y_test = train_test_split(X, Y, test_size=0.25, random_state=42)\n",
        "print(\"Shape of training data is: \", X_train.shape)\n",
        "print(\"Shape of testing data is: \", X_test.shape)"
      ],
      "execution_count": null,
      "outputs": []
    },
    {
      "cell_type": "code",
      "metadata": {
        "id": "NJiToUeIbmNx"
      },
      "source": [
        "from keras.models import Sequential\n",
        "from keras.layers import Dense, Activation, Dropout\n",
        "import keras"
      ],
      "execution_count": null,
      "outputs": []
    },
    {
      "cell_type": "code",
      "metadata": {
        "id": "uVTbjyExghbr"
      },
      "source": [
        "opt1 = keras.optimizers.SGD(learning_rate=0.001, momentum=0.9)  #Check momentum 0.1 and 0.9. Also check lr=0.001 and 0.1\n",
        "opt2 = keras.optimizers.Adam(learning_rate=0.001) #Verify against SGD for lr=0.01 and 0.001"
      ],
      "execution_count": null,
      "outputs": []
    },
    {
      "cell_type": "code",
      "metadata": {
        "id": "d5KZ-t-Pb2-F"
      },
      "source": [
        "model = Sequential()\n",
        "model.add(Dense(16, input_dim=30, activation='relu')) \n",
        "model.add(Dropout(0.2))\n",
        "model.add(Dense(1)) \n",
        "model.add(Activation('sigmoid')) \n",
        " \n",
        "model.compile(loss='binary_crossentropy', optimizer=opt1, metrics=['accuracy'])  #Change optimizer here\n",
        "\n",
        "print(model.summary())"
      ],
      "execution_count": null,
      "outputs": []
    },
    {
      "cell_type": "code",
      "metadata": {
        "id": "Fejcy88MZTsF",
        "colab": {
          "base_uri": "https://localhost:8080/"
        },
        "outputId": "9d03edc3-95b5-424b-d063-e7dad9aae973"
      },
      "source": [
        "#Understanding batch size... \n",
        "from math import ceil #Rounding up\n",
        "print(\"Shape of training data is: \", X_train.shape)\n",
        "\n",
        "# Batch size: Number of samples that will pass through the network before updating the model parameters\n",
        "# Batch size samples go through one full forward and backward propagation\n",
        "batch_size=16  #Change batch_size from 8 to 64 to 128 to see how model converges faster with batch size 8. ALso check accuracy. \n",
        "\n",
        "#Epochs: All available training data passes through the network per epoch. \n",
        "# All data goes through forward and backward propagation once. \n",
        "epochs = 100  # \n",
        "\n",
        "#Data is ivided into batches primarily to make sure it fits the available memory. \n",
        "#Iterations is number of batches per epoch. \n",
        "iterations = X_train.shape[0]/batch_size\n",
        "print(\"Number of iterations per epoch = \", ceil(iterations))\n",
        "\n",
        "#KEY SUMMARY\n",
        "#1. You may be limited to small batch size based on your system hardware.\n",
        "#2. Smaller batches mean each step in gradient descent may be less accurate, so it may take longer to converge.\n",
        "#3. But, for larger batches the model may not be generalized enough, so smaller batches are preferable. \n",
        "#4. Larger batch sizes result in faster progress but don;t always converge as fast. \n",
        "#5. Smaller batches train slower, but can converge faster. \n",
        "#6. Batch size 32 or 64 is a good starting point.  \n"
      ],
      "execution_count": null,
      "outputs": [
        {
          "output_type": "stream",
          "text": [
            "Shape of training data is:  (426, 30)\n",
            "Number of iterations per epoch =  27\n"
          ],
          "name": "stdout"
        }
      ]
    },
    {
      "cell_type": "code",
      "metadata": {
        "id": "hch57toOdjlV"
      },
      "source": [
        "# Restart session to remove model from memory and start training from scratch.\n",
        "# This is the only way for true comparison of the effect of various parameters. "
      ],
      "execution_count": null,
      "outputs": []
    },
    {
      "cell_type": "code",
      "metadata": {
        "id": "YhQev7Jmc3Z2"
      },
      "source": [
        "#Fit with no early stopping or other callbacks\n",
        "\n",
        "history = model.fit(X_train, y_train, verbose=1, epochs=300, batch_size=batch_size,\n",
        "                    validation_data=(X_test, y_test))\n"
      ],
      "execution_count": null,
      "outputs": []
    },
    {
      "cell_type": "code",
      "metadata": {
        "id": "tUtN6d9keAQn",
        "colab": {
          "base_uri": "https://localhost:8080/",
          "height": 573
        },
        "outputId": "0b7293c1-45b1-421d-ba92-0495f7bc42d3"
      },
      "source": [
        "#plot the training and validation accuracy and loss at each epoch\n",
        "#If validation loss is lower than training loss this could be becuase we are applying\n",
        "#regularization (Dropout) during training which won't be applied during validation. \n",
        "#Also, training loss is measured during each epoch while validation is done after the epoch. \n",
        "\n",
        "loss = history.history['loss']\n",
        "val_loss = history.history['val_loss']\n",
        "epochs = range(1, len(loss) + 1)\n",
        "plt.plot(epochs, loss, 'y', label='Training loss')\n",
        "plt.plot(epochs, val_loss, 'r', label='Validation loss')\n",
        "plt.title('Training and validation loss')\n",
        "plt.xlabel('Epochs')\n",
        "plt.ylabel('Loss')\n",
        "plt.legend()\n",
        "plt.show()\n",
        "\n",
        "\n",
        "acc = history.history['accuracy']  #Use accuracy if acc doesn't work\n",
        "val_acc = history.history['val_accuracy']  #Use val_accuracy if acc doesn't work\n",
        "plt.plot(epochs, acc, 'y', label='Training acc')\n",
        "plt.plot(epochs, val_acc, 'r', label='Validation acc')\n",
        "plt.title('Training and validation accuracy')\n",
        "plt.xlabel('Epochs')\n",
        "plt.ylabel('Accuracy')\n",
        "plt.legend()\n",
        "plt.show()"
      ],
      "execution_count": null,
      "outputs": [
        {
          "output_type": "display_data",
          "data": {
            "image/png": "[encoded data removed]",
            "text/plain": [
              "<Figure size 432x288 with 1 Axes>"
            ]
          },
          "metadata": {
            "tags": [],
            "needs_background": "light"
          }
        },
        {
          "output_type": "display_data",
          "data": {
            "image/png": "[encoded data removed]",
            "text/plain": [
              "<Figure size 432x288 with 1 Axes>"
            ]
          },
          "metadata": {
            "tags": [],
            "needs_background": "light"
          }
        }
      ]
    },
    {
      "cell_type": "code",
      "metadata": {
        "id": "lRYHH_A3eeQB",
        "colab": {
          "base_uri": "https://localhost:8080/",
          "height": 282
        },
        "outputId": "08045848-8c70-4fd9-b1ad-4f8eca82cacc"
      },
      "source": [
        "# Predicting the Test set results\n",
        "y_pred = model.predict(X_test)\n",
        "y_pred = (y_pred > 0.5)\n",
        "\n",
        "# Making the Confusion Matrix\n",
        "from sklearn.metrics import confusion_matrix\n",
        "cm = confusion_matrix(y_test, y_pred)\n",
        "\n",
        "sns.heatmap(cm, annot=True)"
      ],
      "execution_count": null,
      "outputs": [
        {
          "output_type": "execute_result",
          "data": {
            "text/plain": [
              "<matplotlib.axes._subplots.AxesSubplot at 0x7feff44e6550>"
            ]
          },
          "metadata": {
            "tags": []
          },
          "execution_count": 19
        },
        {
          "output_type": "display_data",
          "data": {
            "image/png": "[encoded data removed]",
            "text/plain": [
              "<Figure size 432x288 with 2 Axes>"
            ]
          },
          "metadata": {
            "tags": [],
            "needs_background": "light"
          }
        }
      ]
    }
  ]
}