{
  "nbformat": 4,
  "nbformat_minor": 0,
  "metadata": {
    "colab": {
      "name": "tutorial109_regression_housing.ipynb",
      "provenance": [],
      "collapsed_sections": [],
      "mount_file_id": "1siy3I9R5O_P_lnwiWMXuAsRTIszUyV7h",
      "authorship_tag": "ABX9TyO1hqxZjqf1lcKp375N9DF7",
      "include_colab_link": true
    },
    "kernelspec": {
      "name": "python3",
      "display_name": "Python 3"
    },
    "language_info": {
      "name": "python"
    }
  },
  "cells": [
    {
      "cell_type": "markdown",
      "metadata": {
        "id": "view-in-github",
        "colab_type": "text"
      },
      "source": [
        "<a href=\"https://colab.research.google.com/github/bnsreenu/python_for_image_processing_APEER/blob/master/tutorial109_regression_housing.ipynb\" target=\"_parent\"><img src=\"https://colab.research.google.com/assets/colab-badge.svg\" alt=\"Open In Colab\"/></a>"
      ]
    },
    {
      "cell_type": "markdown",
      "metadata": {
        "id": "TTia-CEiCROV"
      },
      "source": [
        "https://youtu.be/vyX2_XRHO9g"
      ]
    },
    {
      "cell_type": "code",
      "metadata": {
        "id": "ioOS6r-vWZ2H"
      },
      "source": [
        "\"\"\"\n",
        "Boston housing dataset: https://www.cs.toronto.edu/~delve/data/boston/bostonDetail.html\n",
        "Data has white spaces, not commas.\n",
        "\n",
        "The Boston house-price data of Harrison, D. and Rubinfeld, D.L. 'Hedonic\n",
        " prices and the demand for clean air', J. Environ. Economics & Management,\n",
        " vol.5, 81-102, 1978\n",
        "\n",
        "    1. CRIM      per capita crime rate by town\n",
        "    2. ZN        proportion of residential land zoned for lots over \n",
        "                 25,000 sq.ft.\n",
        "    3. INDUS     proportion of non-retail business acres per town\n",
        "    4. CHAS      Charles River dummy variable (= 1 if tract bounds \n",
        "                 river; 0 otherwise)\n",
        "    5. NOX       nitric oxides concentration (parts per 10 million)\n",
        "    6. RM        average number of rooms per dwelling\n",
        "    7. AGE       proportion of owner-occupied units built prior to 1940\n",
        "    8. DIS       weighted distances to five Boston employment centres\n",
        "    9. RAD       index of accessibility to radial highways\n",
        "    10. TAX      full-value property-tax rate per $10,000\n",
        "    11. PTRATIO  pupil-teacher ratio by town\n",
        "    12. B        1000(Bk - 0.63)^2 where Bk is the proportion of blacks \n",
        "                 by town\n",
        "    13. LSTAT    % lower status of the population\n",
        "    14. MEDV     Median value of owner-occupied homes in $1000's\n",
        "\n",
        "\n",
        "\"\"\""
      ],
      "execution_count": null,
      "outputs": []
    },
    {
      "cell_type": "code",
      "metadata": {
        "id": "prBUbeUqXTZ8"
      },
      "source": [
        "import pandas as pd\n",
        "from keras.models import Sequential\n",
        "from keras.layers import Dense\n",
        "from keras.wrappers.scikit_learn import KerasRegressor\n",
        "from sklearn.model_selection import cross_val_score\n",
        "from sklearn.model_selection import KFold\n",
        "from sklearn.pipeline import Pipeline\n",
        "from sklearn.model_selection import train_test_split\n",
        "import seaborn as sns\n",
        "from matplotlib import pyplot as plt"
      ],
      "execution_count": null,
      "outputs": []
    },
    {
      "cell_type": "code",
      "metadata": {
        "id": "NLobcQ9GXVws",
        "colab": {
          "base_uri": "https://localhost:8080/"
        },
        "outputId": "acd49341-67c7-4d71-e124-3001e5051d88"
      },
      "source": [
        "# load data and arrange into Pandas dataframe\n",
        "df = pd.read_csv(\"/content/drive/MyDrive/Colab Notebooks/data/housing_data/housing_data_for_regression.csv\", delim_whitespace=True, header=None)\n",
        "\n",
        "print(df.head())"
      ],
      "execution_count": null,
      "outputs": [
        {
          "output_type": "stream",
          "text": [
            "        0     1     2   3      4      5   ...  8      9     10      11    12    13\n",
            "0  0.00632  18.0  2.31   0  0.538  6.575  ...   1  296.0  15.3  396.90  4.98  24.0\n",
            "1  0.02731   0.0  7.07   0  0.469  6.421  ...   2  242.0  17.8  396.90  9.14  21.6\n",
            "2  0.02729   0.0  7.07   0  0.469  7.185  ...   2  242.0  17.8  392.83  4.03  34.7\n",
            "3  0.03237   0.0  2.18   0  0.458  6.998  ...   3  222.0  18.7  394.63  2.94  33.4\n",
            "4  0.06905   0.0  2.18   0  0.458  7.147  ...   3  222.0  18.7  396.90  5.33  36.2\n",
            "\n",
            "[5 rows x 14 columns]\n"
          ],
          "name": "stdout"
        }
      ]
    },
    {
      "cell_type": "code",
      "metadata": {
        "id": "OnzyznIeXaVz",
        "colab": {
          "base_uri": "https://localhost:8080/"
        },
        "outputId": "6debfe9f-2fc4-49e1-c34a-85d757ba73e9"
      },
      "source": [
        "feature_names = ['CRIM', 'ZN', 'INDUS', 'CHAS', 'NOX', 'RM', 'AGE', \n",
        "                 'DIS', 'RAD', 'TAX', 'PTRATIO', 'B', 'LSTAT', 'PRICE']\n",
        "\n",
        "\n",
        "df.columns = feature_names\n",
        "print(df.head())\n",
        "\n",
        "#df = df.rename(columns={'MEDV': 'PRICE'})\n",
        "print(df.describe().T)"
      ],
      "execution_count": null,
      "outputs": [
        {
          "output_type": "stream",
          "text": [
            "      CRIM    ZN  INDUS  CHAS    NOX  ...    TAX  PTRATIO       B  LSTAT  PRICE\n",
            "0  0.00632  18.0   2.31     0  0.538  ...  296.0     15.3  396.90   4.98   24.0\n",
            "1  0.02731   0.0   7.07     0  0.469  ...  242.0     17.8  396.90   9.14   21.6\n",
            "2  0.02729   0.0   7.07     0  0.469  ...  242.0     17.8  392.83   4.03   34.7\n",
            "3  0.03237   0.0   2.18     0  0.458  ...  222.0     18.7  394.63   2.94   33.4\n",
            "4  0.06905   0.0   2.18     0  0.458  ...  222.0     18.7  396.90   5.33   36.2\n",
            "\n",
            "[5 rows x 14 columns]\n",
            "         count        mean         std  ...        50%         75%       max\n",
            "CRIM     506.0    3.613524    8.601545  ...    0.25651    3.677082   88.9762\n",
            "ZN       506.0   11.363636   23.322453  ...    0.00000   12.500000  100.0000\n",
            "INDUS    506.0   11.136779    6.860353  ...    9.69000   18.100000   27.7400\n",
            "CHAS     506.0    0.069170    0.253994  ...    0.00000    0.000000    1.0000\n",
            "NOX      506.0    0.554695    0.115878  ...    0.53800    0.624000    0.8710\n",
            "RM       506.0    6.284634    0.702617  ...    6.20850    6.623500    8.7800\n",
            "AGE      506.0   68.574901   28.148861  ...   77.50000   94.075000  100.0000\n",
            "DIS      506.0    3.795043    2.105710  ...    3.20745    5.188425   12.1265\n",
            "RAD      506.0    9.549407    8.707259  ...    5.00000   24.000000   24.0000\n",
            "TAX      506.0  408.237154  168.537116  ...  330.00000  666.000000  711.0000\n",
            "PTRATIO  506.0   18.455534    2.164946  ...   19.05000   20.200000   22.0000\n",
            "B        506.0  356.674032   91.294864  ...  391.44000  396.225000  396.9000\n",
            "LSTAT    506.0   12.653063    7.141062  ...   11.36000   16.955000   37.9700\n",
            "PRICE    506.0   22.532806    9.197104  ...   21.20000   25.000000   50.0000\n",
            "\n",
            "[14 rows x 8 columns]\n"
          ],
          "name": "stdout"
        }
      ]
    },
    {
      "cell_type": "code",
      "metadata": {
        "colab": {
          "base_uri": "https://localhost:8080/",
          "height": 334
        },
        "id": "zfyIBr17E7_x",
        "outputId": "e7e7b2d8-ead1-4456-ee4b-d27405952ed9"
      },
      "source": [
        "fig, ax =plt.subplots(1,3, figsize=(15, 5))\n",
        "sns.histplot(df['PRICE'], ax=ax[0])\n",
        "sns.histplot(df['AGE'], ax=ax[1])\n",
        "sns.histplot(df['TAX'], ax=ax[2])\n",
        "\n",
        "fig.show()"
      ],
      "execution_count": null,
      "outputs": [
        {
          "output_type": "display_data",
          "data": {
            "image/png": "[encoded data removed]",
            "text/plain": [
              "<Figure size 1080x360 with 3 Axes>"
            ]
          },
          "metadata": {
            "tags": [],
            "needs_background": "light"
          }
        }
      ]
    },
    {
      "cell_type": "code",
      "metadata": {
        "colab": {
          "base_uri": "https://localhost:8080/",
          "height": 334
        },
        "id": "lXpw5Ng-Fq45",
        "outputId": "004c9a2c-b7e0-4860-ba6f-f93a95d3e8e3"
      },
      "source": [
        "#Understand the data further. \n",
        "fig, ax =plt.subplots(1,3, figsize=(15, 5))\n",
        "sns.lineplot(x=df['AGE'], y=df['PRICE'], ax=ax[0])\n",
        "sns.lineplot(x=df['TAX'], y=df['PRICE'], ax=ax[1])\n",
        "sns.lineplot(x=df['B'], y=df['PRICE'], ax=ax[2])\n",
        "\n",
        "\n",
        "fig.show()"
      ],
      "execution_count": null,
      "outputs": [
        {
          "output_type": "display_data",
          "data": {
            "image/png": "[encoded data removed]",
            "text/plain": [
              "<Figure size 1080x360 with 3 Axes>"
            ]
          },
          "metadata": {
            "tags": [],
            "needs_background": "light"
          }
        }
      ]
    },
    {
      "cell_type": "code",
      "metadata": {
        "colab": {
          "base_uri": "https://localhost:8080/"
        },
        "id": "ExrbTajDGUaR",
        "outputId": "150b1848-77d7-4e3d-f7a1-b00f0dc43777"
      },
      "source": [
        "#Any strong correlation between attributes?\n",
        "corr = df.corr()\n",
        "corr_unstacked = corr.unstack()\n",
        "corr_unstacked_sorted = corr_unstacked.sort_values(kind=\"quicksort\", ascending=False)\n",
        "corr_df=pd.Series.to_frame(corr_unstacked_sorted, name='correlation')  #Convert Series to DataFrame and name correlation column accordingly. \n",
        "high_corr_features =  corr_df[corr_df.correlation != 1]  #Remove all 1s that correspond to self correlation\n",
        "print(high_corr_features.head(30))"
      ],
      "execution_count": null,
      "outputs": [
        {
          "output_type": "stream",
          "text": [
            "             correlation\n",
            "TAX   RAD       0.910228\n",
            "RAD   TAX       0.910228\n",
            "INDUS NOX       0.763651\n",
            "NOX   INDUS     0.763651\n",
            "      AGE       0.731470\n",
            "AGE   NOX       0.731470\n",
            "TAX   INDUS     0.720760\n",
            "INDUS TAX       0.720760\n",
            "PRICE RM        0.695360\n",
            "RM    PRICE     0.695360\n",
            "TAX   NOX       0.668023\n",
            "NOX   TAX       0.668023\n",
            "DIS   ZN        0.664408\n",
            "ZN    DIS       0.664408\n",
            "INDUS AGE       0.644779\n",
            "AGE   INDUS     0.644779\n",
            "CRIM  RAD       0.625505\n",
            "RAD   CRIM      0.625505\n",
            "NOX   RAD       0.611441\n",
            "RAD   NOX       0.611441\n",
            "INDUS LSTAT     0.603800\n",
            "LSTAT INDUS     0.603800\n",
            "      AGE       0.602339\n",
            "AGE   LSTAT     0.602339\n",
            "INDUS RAD       0.595129\n",
            "RAD   INDUS     0.595129\n",
            "NOX   LSTAT     0.590879\n",
            "LSTAT NOX       0.590879\n",
            "TAX   CRIM      0.582764\n",
            "CRIM  TAX       0.582764\n"
          ],
          "name": "stdout"
        }
      ]
    },
    {
      "cell_type": "code",
      "metadata": {
        "colab": {
          "base_uri": "https://localhost:8080/"
        },
        "id": "pjHOYk3uGsMx",
        "outputId": "d1218b45-e758-4c69-f08b-74760c8e87e1"
      },
      "source": [
        "print(df.isnull().sum())\n",
        "#df = df.dropna()"
      ],
      "execution_count": null,
      "outputs": [
        {
          "output_type": "stream",
          "text": [
            "CRIM       0\n",
            "ZN         0\n",
            "INDUS      0\n",
            "CHAS       0\n",
            "NOX        0\n",
            "RM         0\n",
            "AGE        0\n",
            "DIS        0\n",
            "RAD        0\n",
            "TAX        0\n",
            "PTRATIO    0\n",
            "B          0\n",
            "LSTAT      0\n",
            "PRICE      0\n",
            "dtype: int64\n"
          ],
          "name": "stdout"
        }
      ]
    },
    {
      "cell_type": "code",
      "metadata": {
        "id": "TU6AE-61XbA3"
      },
      "source": [
        "#Split into features and target (Price)\n",
        "X = df.drop('PRICE', axis = 1)\n",
        "y = df['PRICE']\n",
        "\n",
        "X_train, X_test, y_train, y_test = train_test_split(X, y, test_size = 0.2, random_state = 20)\n",
        "\n"
      ],
      "execution_count": null,
      "outputs": []
    },
    {
      "cell_type": "code",
      "metadata": {
        "id": "KOajsnJPXdWb"
      },
      "source": [
        "#Scale data, otherwise model will fail.\n",
        "#Standardize features by removing the mean and scaling to unit variance\n",
        "from sklearn.preprocessing import StandardScaler\n",
        "scaler=StandardScaler()\n",
        "scaler.fit(X_train)\n",
        "\n",
        "X_train_scaled = scaler.transform(X_train)\n",
        "X_test_scaled = scaler.transform(X_test)\n"
      ],
      "execution_count": null,
      "outputs": []
    },
    {
      "cell_type": "code",
      "metadata": {
        "id": "NAxSVZ6BXfXP",
        "colab": {
          "base_uri": "https://localhost:8080/"
        },
        "outputId": "61e55474-05d1-4d19-ddc8-d83ac1a132ad"
      },
      "source": [
        "# define the model\n",
        "#Experiment with deeper and wider networks\n",
        "model = Sequential()\n",
        "model.add(Dense(128, input_dim=13, activation='relu'))\n",
        "model.add(Dense(64, activation='relu'))\n",
        "#Output layer\n",
        "model.add(Dense(1, activation='linear'))\n",
        "\n",
        "model.compile(loss='mean_squared_error', optimizer='adam', metrics=['mae'])\n",
        "model.summary()"
      ],
      "execution_count": null,
      "outputs": [
        {
          "output_type": "stream",
          "text": [
            "Model: \"sequential\"\n",
            "_________________________________________________________________\n",
            "Layer (type)                 Output Shape              Param #   \n",
            "=================================================================\n",
            "dense (Dense)                (None, 128)               1792      \n",
            "_________________________________________________________________\n",
            "dense_1 (Dense)              (None, 64)                8256      \n",
            "_________________________________________________________________\n",
            "dense_2 (Dense)              (None, 1)                 65        \n",
            "=================================================================\n",
            "Total params: 10,113\n",
            "Trainable params: 10,113\n",
            "Non-trainable params: 0\n",
            "_________________________________________________________________\n"
          ],
          "name": "stdout"
        }
      ]
    },
    {
      "cell_type": "code",
      "metadata": {
        "id": "L2Pm9SkMXrbn",
        "colab": {
          "base_uri": "https://localhost:8080/"
        },
        "outputId": "6891dc09-5b81-4905-f191-71ad900b8a4f"
      },
      "source": [
        "history = model.fit(X_train_scaled, y_train, epochs =100, validation_data=(X_test_scaled, y_test))\n"
      ],
      "execution_count": null,
      "outputs": [
        {
          "output_type": "stream",
          "text": [
            "Epoch 1/100\n",
            "13/13 [==============================] - 1s 24ms/step - loss: 585.5664 - mae: 22.0591 - val_loss: 430.4849 - val_mae: 19.0240\n",
            "Epoch 2/100\n",
            "13/13 [==============================] - 0s 6ms/step - loss: 447.1653 - mae: 18.9628 - val_loss: 330.0401 - val_mae: 16.3608\n",
            "Epoch 3/100\n",
            "13/13 [==============================] - 0s 7ms/step - loss: 333.7310 - mae: 15.6798 - val_loss: 213.9000 - val_mae: 12.9314\n",
            "Epoch 4/100\n",
            "13/13 [==============================] - 0s 6ms/step - loss: 195.6411 - mae: 11.8140 - val_loss: 109.5198 - val_mae: 8.7879\n",
            "Epoch 5/100\n",
            "13/13 [==============================] - 0s 6ms/step - loss: 114.8703 - mae: 8.0923 - val_loss: 55.7692 - val_mae: 6.0671\n",
            "Epoch 6/100\n",
            "13/13 [==============================] - 0s 6ms/step - loss: 59.2307 - mae: 5.8705 - val_loss: 38.1550 - val_mae: 4.9746\n",
            "Epoch 7/100\n",
            "13/13 [==============================] - 0s 6ms/step - loss: 45.7845 - mae: 5.1300 - val_loss: 28.8134 - val_mae: 4.3029\n",
            "Epoch 8/100\n",
            "13/13 [==============================] - 0s 6ms/step - loss: 32.1982 - mae: 4.0960 - val_loss: 24.6091 - val_mae: 3.8775\n",
            "Epoch 9/100\n",
            "13/13 [==============================] - 0s 6ms/step - loss: 23.2372 - mae: 3.5271 - val_loss: 22.1117 - val_mae: 3.6475\n",
            "Epoch 10/100\n",
            "13/13 [==============================] - 0s 6ms/step - loss: 27.9661 - mae: 3.6421 - val_loss: 20.9808 - val_mae: 3.5808\n",
            "Epoch 11/100\n",
            "13/13 [==============================] - 0s 6ms/step - loss: 21.4870 - mae: 3.2684 - val_loss: 19.8817 - val_mae: 3.4529\n",
            "Epoch 12/100\n",
            "13/13 [==============================] - 0s 7ms/step - loss: 24.2145 - mae: 3.3070 - val_loss: 18.8891 - val_mae: 3.3472\n",
            "Epoch 13/100\n",
            "13/13 [==============================] - 0s 6ms/step - loss: 20.5714 - mae: 3.1170 - val_loss: 18.2481 - val_mae: 3.3044\n",
            "Epoch 14/100\n",
            "13/13 [==============================] - 0s 6ms/step - loss: 17.4733 - mae: 2.9168 - val_loss: 17.5177 - val_mae: 3.2408\n",
            "Epoch 15/100\n",
            "13/13 [==============================] - 0s 6ms/step - loss: 15.8686 - mae: 2.7973 - val_loss: 17.0261 - val_mae: 3.1948\n",
            "Epoch 16/100\n",
            "13/13 [==============================] - 0s 6ms/step - loss: 16.5887 - mae: 2.9187 - val_loss: 16.5158 - val_mae: 3.1452\n",
            "Epoch 17/100\n",
            "13/13 [==============================] - 0s 7ms/step - loss: 16.2183 - mae: 2.7637 - val_loss: 16.2595 - val_mae: 3.1042\n",
            "Epoch 18/100\n",
            "13/13 [==============================] - 0s 6ms/step - loss: 16.2833 - mae: 2.7078 - val_loss: 15.8826 - val_mae: 3.0613\n",
            "Epoch 19/100\n",
            "13/13 [==============================] - 0s 6ms/step - loss: 15.7747 - mae: 2.6728 - val_loss: 15.7366 - val_mae: 3.0667\n",
            "Epoch 20/100\n",
            "13/13 [==============================] - 0s 8ms/step - loss: 12.7315 - mae: 2.5050 - val_loss: 15.5801 - val_mae: 3.0369\n",
            "Epoch 21/100\n",
            "13/13 [==============================] - 0s 7ms/step - loss: 13.9805 - mae: 2.5437 - val_loss: 15.3249 - val_mae: 3.0247\n",
            "Epoch 22/100\n",
            "13/13 [==============================] - 0s 6ms/step - loss: 14.2894 - mae: 2.6940 - val_loss: 15.2164 - val_mae: 3.0028\n",
            "Epoch 23/100\n",
            "13/13 [==============================] - 0s 6ms/step - loss: 12.8782 - mae: 2.4221 - val_loss: 15.0533 - val_mae: 2.9902\n",
            "Epoch 24/100\n",
            "13/13 [==============================] - 0s 7ms/step - loss: 12.9013 - mae: 2.4677 - val_loss: 14.9247 - val_mae: 2.9727\n",
            "Epoch 25/100\n",
            "13/13 [==============================] - 0s 7ms/step - loss: 13.1459 - mae: 2.4533 - val_loss: 14.8557 - val_mae: 2.9707\n",
            "Epoch 26/100\n",
            "13/13 [==============================] - 0s 6ms/step - loss: 10.1635 - mae: 2.2588 - val_loss: 14.7736 - val_mae: 2.9547\n",
            "Epoch 27/100\n",
            "13/13 [==============================] - 0s 7ms/step - loss: 11.2771 - mae: 2.3131 - val_loss: 14.5777 - val_mae: 2.9398\n",
            "Epoch 28/100\n",
            "13/13 [==============================] - 0s 6ms/step - loss: 12.3352 - mae: 2.3847 - val_loss: 14.5927 - val_mae: 2.9283\n",
            "Epoch 29/100\n",
            "13/13 [==============================] - 0s 7ms/step - loss: 8.7180 - mae: 2.0560 - val_loss: 14.3646 - val_mae: 2.9152\n",
            "Epoch 30/100\n",
            "13/13 [==============================] - 0s 6ms/step - loss: 10.0950 - mae: 2.3395 - val_loss: 14.4156 - val_mae: 2.9108\n",
            "Epoch 31/100\n",
            "13/13 [==============================] - 0s 7ms/step - loss: 9.7243 - mae: 2.1898 - val_loss: 14.3442 - val_mae: 2.8937\n",
            "Epoch 32/100\n",
            "13/13 [==============================] - 0s 7ms/step - loss: 9.7885 - mae: 2.2558 - val_loss: 14.2081 - val_mae: 2.8961\n",
            "Epoch 33/100\n",
            "13/13 [==============================] - 0s 7ms/step - loss: 10.4285 - mae: 2.2433 - val_loss: 14.1898 - val_mae: 2.8925\n",
            "Epoch 34/100\n",
            "13/13 [==============================] - 0s 7ms/step - loss: 9.2665 - mae: 2.1658 - val_loss: 13.9170 - val_mae: 2.8785\n",
            "Epoch 35/100\n",
            "13/13 [==============================] - 0s 7ms/step - loss: 12.9065 - mae: 2.3259 - val_loss: 13.8041 - val_mae: 2.8399\n",
            "Epoch 36/100\n",
            "13/13 [==============================] - 0s 7ms/step - loss: 11.0385 - mae: 2.2743 - val_loss: 13.7923 - val_mae: 2.8533\n",
            "Epoch 37/100\n",
            "13/13 [==============================] - 0s 6ms/step - loss: 10.1807 - mae: 2.1975 - val_loss: 13.8381 - val_mae: 2.8458\n",
            "Epoch 38/100\n",
            "13/13 [==============================] - 0s 6ms/step - loss: 8.9221 - mae: 2.0748 - val_loss: 13.6556 - val_mae: 2.8334\n",
            "Epoch 39/100\n",
            "13/13 [==============================] - 0s 6ms/step - loss: 9.5183 - mae: 2.1299 - val_loss: 13.5280 - val_mae: 2.8145\n",
            "Epoch 40/100\n",
            "13/13 [==============================] - 0s 7ms/step - loss: 6.9544 - mae: 1.9405 - val_loss: 13.3796 - val_mae: 2.7993\n",
            "Epoch 41/100\n",
            "13/13 [==============================] - 0s 7ms/step - loss: 8.7424 - mae: 2.1449 - val_loss: 13.6881 - val_mae: 2.7995\n",
            "Epoch 42/100\n",
            "13/13 [==============================] - 0s 7ms/step - loss: 10.5392 - mae: 2.1662 - val_loss: 13.6158 - val_mae: 2.8073\n",
            "Epoch 43/100\n",
            "13/13 [==============================] - 0s 7ms/step - loss: 10.0408 - mae: 2.1993 - val_loss: 13.6110 - val_mae: 2.8102\n",
            "Epoch 44/100\n",
            "13/13 [==============================] - 0s 6ms/step - loss: 11.7907 - mae: 2.3209 - val_loss: 13.3536 - val_mae: 2.7835\n",
            "Epoch 45/100\n",
            "13/13 [==============================] - 0s 7ms/step - loss: 9.5310 - mae: 2.1108 - val_loss: 13.4183 - val_mae: 2.7793\n",
            "Epoch 46/100\n",
            "13/13 [==============================] - 0s 7ms/step - loss: 11.6218 - mae: 2.3014 - val_loss: 13.2006 - val_mae: 2.7568\n",
            "Epoch 47/100\n",
            "13/13 [==============================] - 0s 7ms/step - loss: 7.3521 - mae: 2.0070 - val_loss: 13.2269 - val_mae: 2.7539\n",
            "Epoch 48/100\n",
            "13/13 [==============================] - 0s 7ms/step - loss: 8.2680 - mae: 2.0801 - val_loss: 13.1878 - val_mae: 2.7456\n",
            "Epoch 49/100\n",
            "13/13 [==============================] - 0s 7ms/step - loss: 10.5726 - mae: 2.2227 - val_loss: 13.1978 - val_mae: 2.7511\n",
            "Epoch 50/100\n",
            "13/13 [==============================] - 0s 7ms/step - loss: 6.7919 - mae: 1.9185 - val_loss: 13.1680 - val_mae: 2.7400\n",
            "Epoch 51/100\n",
            "13/13 [==============================] - 0s 7ms/step - loss: 10.0868 - mae: 2.1805 - val_loss: 13.3940 - val_mae: 2.7532\n",
            "Epoch 52/100\n",
            "13/13 [==============================] - 0s 6ms/step - loss: 7.9048 - mae: 2.0217 - val_loss: 13.1064 - val_mae: 2.7199\n",
            "Epoch 53/100\n",
            "13/13 [==============================] - 0s 6ms/step - loss: 7.4974 - mae: 1.9801 - val_loss: 13.3063 - val_mae: 2.7550\n",
            "Epoch 54/100\n",
            "13/13 [==============================] - 0s 7ms/step - loss: 9.5415 - mae: 2.0444 - val_loss: 13.0602 - val_mae: 2.7202\n",
            "Epoch 55/100\n",
            "13/13 [==============================] - 0s 7ms/step - loss: 8.2857 - mae: 1.9929 - val_loss: 13.0867 - val_mae: 2.7216\n",
            "Epoch 56/100\n",
            "13/13 [==============================] - 0s 6ms/step - loss: 7.4801 - mae: 1.9506 - val_loss: 13.0603 - val_mae: 2.7134\n",
            "Epoch 57/100\n",
            "13/13 [==============================] - 0s 7ms/step - loss: 7.5695 - mae: 2.0259 - val_loss: 13.0734 - val_mae: 2.7294\n",
            "Epoch 58/100\n",
            "13/13 [==============================] - 0s 7ms/step - loss: 6.5609 - mae: 1.9043 - val_loss: 13.0008 - val_mae: 2.6915\n",
            "Epoch 59/100\n",
            "13/13 [==============================] - 0s 6ms/step - loss: 8.1211 - mae: 2.0714 - val_loss: 13.0448 - val_mae: 2.7065\n",
            "Epoch 60/100\n",
            "13/13 [==============================] - 0s 6ms/step - loss: 7.2293 - mae: 1.9242 - val_loss: 12.8728 - val_mae: 2.6858\n",
            "Epoch 61/100\n",
            "13/13 [==============================] - 0s 6ms/step - loss: 6.3600 - mae: 1.8322 - val_loss: 13.0424 - val_mae: 2.6910\n",
            "Epoch 62/100\n",
            "13/13 [==============================] - 0s 6ms/step - loss: 6.4127 - mae: 1.8563 - val_loss: 13.0509 - val_mae: 2.6979\n",
            "Epoch 63/100\n",
            "13/13 [==============================] - 0s 6ms/step - loss: 9.0245 - mae: 2.1139 - val_loss: 12.8179 - val_mae: 2.6818\n",
            "Epoch 64/100\n",
            "13/13 [==============================] - 0s 6ms/step - loss: 7.6520 - mae: 1.9697 - val_loss: 12.6286 - val_mae: 2.6597\n",
            "Epoch 65/100\n",
            "13/13 [==============================] - 0s 6ms/step - loss: 5.6797 - mae: 1.7905 - val_loss: 13.0125 - val_mae: 2.7048\n",
            "Epoch 66/100\n",
            "13/13 [==============================] - 0s 7ms/step - loss: 6.3483 - mae: 1.8757 - val_loss: 12.7335 - val_mae: 2.6604\n",
            "Epoch 67/100\n",
            "13/13 [==============================] - 0s 6ms/step - loss: 6.4171 - mae: 1.8822 - val_loss: 12.8385 - val_mae: 2.6828\n",
            "Epoch 68/100\n",
            "13/13 [==============================] - 0s 6ms/step - loss: 6.1415 - mae: 1.8534 - val_loss: 12.8276 - val_mae: 2.6564\n",
            "Epoch 69/100\n",
            "13/13 [==============================] - 0s 6ms/step - loss: 6.4571 - mae: 1.8532 - val_loss: 12.9152 - val_mae: 2.6752\n",
            "Epoch 70/100\n",
            "13/13 [==============================] - 0s 6ms/step - loss: 7.5514 - mae: 1.9013 - val_loss: 12.5596 - val_mae: 2.6398\n",
            "Epoch 71/100\n",
            "13/13 [==============================] - 0s 6ms/step - loss: 5.8865 - mae: 1.7963 - val_loss: 12.6863 - val_mae: 2.6581\n",
            "Epoch 72/100\n",
            "13/13 [==============================] - 0s 6ms/step - loss: 6.2926 - mae: 1.8201 - val_loss: 12.6707 - val_mae: 2.6453\n",
            "Epoch 73/100\n",
            "13/13 [==============================] - 0s 7ms/step - loss: 6.3554 - mae: 1.8320 - val_loss: 12.5817 - val_mae: 2.6360\n",
            "Epoch 74/100\n",
            "13/13 [==============================] - 0s 6ms/step - loss: 6.4989 - mae: 1.8666 - val_loss: 12.8120 - val_mae: 2.6702\n",
            "Epoch 75/100\n",
            "13/13 [==============================] - 0s 6ms/step - loss: 7.8679 - mae: 1.9865 - val_loss: 12.7360 - val_mae: 2.6456\n",
            "Epoch 76/100\n",
            "13/13 [==============================] - 0s 7ms/step - loss: 6.2021 - mae: 1.8359 - val_loss: 12.5809 - val_mae: 2.6424\n",
            "Epoch 77/100\n",
            "13/13 [==============================] - 0s 6ms/step - loss: 5.6743 - mae: 1.7169 - val_loss: 12.4568 - val_mae: 2.6285\n",
            "Epoch 78/100\n",
            "13/13 [==============================] - 0s 7ms/step - loss: 7.4854 - mae: 1.8464 - val_loss: 12.6377 - val_mae: 2.6421\n",
            "Epoch 79/100\n",
            "13/13 [==============================] - 0s 6ms/step - loss: 6.0242 - mae: 1.7451 - val_loss: 12.7160 - val_mae: 2.6358\n",
            "Epoch 80/100\n",
            "13/13 [==============================] - 0s 6ms/step - loss: 5.8903 - mae: 1.7389 - val_loss: 12.4848 - val_mae: 2.6138\n",
            "Epoch 81/100\n",
            "13/13 [==============================] - 0s 6ms/step - loss: 6.6343 - mae: 1.8163 - val_loss: 12.6412 - val_mae: 2.6358\n",
            "Epoch 82/100\n",
            "13/13 [==============================] - 0s 6ms/step - loss: 5.9693 - mae: 1.7613 - val_loss: 12.3982 - val_mae: 2.6012\n",
            "Epoch 83/100\n",
            "13/13 [==============================] - 0s 6ms/step - loss: 5.9763 - mae: 1.7920 - val_loss: 12.3603 - val_mae: 2.6064\n",
            "Epoch 84/100\n",
            "13/13 [==============================] - 0s 6ms/step - loss: 6.4132 - mae: 1.7685 - val_loss: 12.2535 - val_mae: 2.5956\n",
            "Epoch 85/100\n",
            "13/13 [==============================] - 0s 7ms/step - loss: 5.1348 - mae: 1.7164 - val_loss: 12.3449 - val_mae: 2.5920\n",
            "Epoch 86/100\n",
            "13/13 [==============================] - 0s 7ms/step - loss: 5.2271 - mae: 1.7151 - val_loss: 12.3193 - val_mae: 2.5928\n",
            "Epoch 87/100\n",
            "13/13 [==============================] - 0s 7ms/step - loss: 4.9912 - mae: 1.6846 - val_loss: 12.6609 - val_mae: 2.6297\n",
            "Epoch 88/100\n",
            "13/13 [==============================] - 0s 7ms/step - loss: 7.1042 - mae: 1.8174 - val_loss: 12.7775 - val_mae: 2.6600\n",
            "Epoch 89/100\n",
            "13/13 [==============================] - 0s 7ms/step - loss: 5.3371 - mae: 1.7626 - val_loss: 12.5449 - val_mae: 2.6162\n",
            "Epoch 90/100\n",
            "13/13 [==============================] - 0s 7ms/step - loss: 5.9113 - mae: 1.7006 - val_loss: 12.4678 - val_mae: 2.6080\n",
            "Epoch 91/100\n",
            "13/13 [==============================] - 0s 7ms/step - loss: 5.8866 - mae: 1.7898 - val_loss: 12.5460 - val_mae: 2.6317\n",
            "Epoch 92/100\n",
            "13/13 [==============================] - 0s 7ms/step - loss: 5.3984 - mae: 1.6885 - val_loss: 12.6435 - val_mae: 2.6203\n",
            "Epoch 93/100\n",
            "13/13 [==============================] - 0s 7ms/step - loss: 5.5043 - mae: 1.7344 - val_loss: 12.6115 - val_mae: 2.6146\n",
            "Epoch 94/100\n",
            "13/13 [==============================] - 0s 7ms/step - loss: 6.1751 - mae: 1.6916 - val_loss: 12.5680 - val_mae: 2.6219\n",
            "Epoch 95/100\n",
            "13/13 [==============================] - 0s 8ms/step - loss: 4.8762 - mae: 1.6811 - val_loss: 12.6638 - val_mae: 2.6236\n",
            "Epoch 96/100\n",
            "13/13 [==============================] - 0s 6ms/step - loss: 5.0823 - mae: 1.7341 - val_loss: 12.1768 - val_mae: 2.5738\n",
            "Epoch 97/100\n",
            "13/13 [==============================] - 0s 6ms/step - loss: 5.0828 - mae: 1.6175 - val_loss: 12.5445 - val_mae: 2.6211\n",
            "Epoch 98/100\n",
            "13/13 [==============================] - 0s 7ms/step - loss: 4.6571 - mae: 1.5635 - val_loss: 12.5381 - val_mae: 2.6139\n",
            "Epoch 99/100\n",
            "13/13 [==============================] - 0s 6ms/step - loss: 4.9745 - mae: 1.7105 - val_loss: 12.4966 - val_mae: 2.6036\n",
            "Epoch 100/100\n",
            "13/13 [==============================] - 0s 7ms/step - loss: 4.6715 - mae: 1.5768 - val_loss: 12.6274 - val_mae: 2.6121\n"
          ],
          "name": "stdout"
        }
      ]
    },
    {
      "cell_type": "code",
      "metadata": {
        "id": "tNuhndA-XtXj",
        "colab": {
          "base_uri": "https://localhost:8080/",
          "height": 573
        },
        "outputId": "b7ba7daa-929e-41bb-fa18-ab3f645bb2f9"
      },
      "source": [
        "from matplotlib import pyplot as plt\n",
        "#plot the training and validation accuracy and loss at each epoch\n",
        "loss = history.history['loss']\n",
        "val_loss = history.history['val_loss']\n",
        "epochs = range(1, len(loss) + 1)\n",
        "plt.plot(epochs, loss, 'y', label='Training loss')\n",
        "plt.plot(epochs, val_loss, 'r', label='Validation loss')\n",
        "plt.title('Training and validation loss')\n",
        "plt.xlabel('Epochs')\n",
        "plt.ylabel('Loss')\n",
        "plt.legend()\n",
        "plt.show()\n",
        "\n",
        "\n",
        "acc = history.history['mae']\n",
        "val_acc = history.history['val_mae']\n",
        "plt.plot(epochs, acc, 'y', label='Training MAE')\n",
        "plt.plot(epochs, val_acc, 'r', label='Validation MAE')\n",
        "plt.title('Training and validation MAE')\n",
        "plt.xlabel('Epochs')\n",
        "plt.ylabel('Accuracy')\n",
        "plt.legend()\n",
        "plt.show()"
      ],
      "execution_count": null,
      "outputs": [
        {
          "output_type": "display_data",
          "data": {
            "image/png": "[encoded data removed]",
            "text/plain": [
              "<Figure size 432x288 with 1 Axes>"
            ]
          },
          "metadata": {
            "tags": [],
            "needs_background": "light"
          }
        },
        {
          "output_type": "display_data",
          "data": {
            "image/png": "[encoded data removed]",
            "text/plain": [
              "<Figure size 432x288 with 1 Axes>"
            ]
          },
          "metadata": {
            "tags": [],
            "needs_background": "light"
          }
        }
      ]
    },
    {
      "cell_type": "code",
      "metadata": {
        "id": "ecwEBzCvXvac",
        "colab": {
          "base_uri": "https://localhost:8080/"
        },
        "outputId": "099ce795-84c1-46f6-b167-5919267574f8"
      },
      "source": [
        "#Predict on test data\n",
        "predictions = model.predict(X_test_scaled[:5])\n",
        "print(\"Predicted values are: \", predictions)\n",
        "print(\"Real values are: \", y_test[:5])"
      ],
      "execution_count": null,
      "outputs": [
        {
          "output_type": "stream",
          "text": [
            "Predicted values are:  [[20.064781 ]\n",
            " [20.190065 ]\n",
            " [19.327238 ]\n",
            " [21.625889 ]\n",
            " [12.7529125]]\n",
            "Real values are:  498    21.2\n",
            "94     20.6\n",
            "150    21.5\n",
            "221    21.7\n",
            "423    13.4\n",
            "Name: PRICE, dtype: float64\n"
          ],
          "name": "stdout"
        }
      ]
    },
    {
      "cell_type": "code",
      "metadata": {
        "id": "0ptG2e3SX2y2",
        "colab": {
          "base_uri": "https://localhost:8080/"
        },
        "outputId": "00e9f491-4797-41ec-bceb-37a8afc63498"
      },
      "source": [
        "#Comparison with other models..\n",
        "#Neural network - from the current code\n",
        "mse_neural, mae_neural = model.evaluate(X_test_scaled, y_test)\n",
        "print('Mean squared error from neural net: ', mse_neural)\n",
        "print('Mean absolute error from neural net: ', mae_neural)"
      ],
      "execution_count": null,
      "outputs": [
        {
          "output_type": "stream",
          "text": [
            "4/4 [==============================] - 0s 3ms/step - loss: 12.6274 - mae: 2.6121\n",
            "Mean squared error from neural net:  12.627412796020508\n",
            "Mean absolute error from neural net:  2.6121182441711426\n"
          ],
          "name": "stdout"
        }
      ]
    },
    {
      "cell_type": "code",
      "metadata": {
        "id": "aDN4loIDX3Zc",
        "colab": {
          "base_uri": "https://localhost:8080/"
        },
        "outputId": "df54e8a2-5336-421c-eaa2-6b5efca02872"
      },
      "source": [
        "#Linear regression\n",
        "from sklearn import linear_model\n",
        "from sklearn.tree import DecisionTreeRegressor\n",
        "from sklearn.metrics import mean_squared_error, mean_absolute_error\n",
        "\n",
        "### Linear regression\n",
        "lr_model = linear_model.LinearRegression()\n",
        "lr_model.fit(X_train_scaled, y_train)\n",
        "y_pred_lr = lr_model.predict(X_test_scaled)\n",
        "mse_lr = mean_squared_error(y_test, y_pred_lr)\n",
        "mae_lr = mean_absolute_error(y_test, y_pred_lr)\n",
        "print('Mean squared error from linear regression: ', mse_lr)\n",
        "print('Mean absolute error from linear regression: ', mae_lr)"
      ],
      "execution_count": null,
      "outputs": [
        {
          "output_type": "stream",
          "text": [
            "Mean squared error from linear regression:  16.49535197593167\n",
            "Mean absolute error from linear regression:  3.055894153890959\n"
          ],
          "name": "stdout"
        }
      ]
    },
    {
      "cell_type": "code",
      "metadata": {
        "id": "J7Viu9PvX50z",
        "colab": {
          "base_uri": "https://localhost:8080/"
        },
        "outputId": "53f9c624-99f9-47a4-bfbf-84213e8df095"
      },
      "source": [
        "#Random forest.\n",
        "#Increase number of tress and see the effect\n",
        "from sklearn.ensemble import RandomForestRegressor\n",
        "model = RandomForestRegressor(n_estimators = 30, random_state=30)\n",
        "model.fit(X_train_scaled, y_train)\n",
        "\n",
        "y_pred_RF = model.predict(X_test_scaled)\n",
        "\n",
        "mse_RF = mean_squared_error(y_test, y_pred_RF)\n",
        "mae_RF = mean_absolute_error(y_test, y_pred_RF)\n",
        "print('Mean squared error using Random Forest: ', mse_RF)\n",
        "print('Mean absolute error Using Random Forest: ', mae_RF)\n",
        "\n",
        "#Feature ranking...\n",
        "import pandas as pd\n",
        "feature_list = list(X.columns)\n",
        "feature_imp = pd.Series(model.feature_importances_, index=feature_list).sort_values(ascending=False)\n",
        "print(feature_imp)"
      ],
      "execution_count": null,
      "outputs": [
        {
          "output_type": "stream",
          "text": [
            "Mean squared error using Random Forest:  12.251427450980392\n",
            "Mean absolute error Using Random Forest:  2.382614379084967\n",
            "LSTAT      0.479179\n",
            "RM         0.337377\n",
            "DIS        0.065498\n",
            "CRIM       0.037599\n",
            "NOX        0.019502\n",
            "PTRATIO    0.014158\n",
            "TAX        0.012761\n",
            "B          0.012196\n",
            "AGE        0.010441\n",
            "INDUS      0.005591\n",
            "RAD        0.003762\n",
            "ZN         0.001591\n",
            "CHAS       0.000345\n",
            "dtype: float64\n"
          ],
          "name": "stdout"
        }
      ]
    }
  ]
}