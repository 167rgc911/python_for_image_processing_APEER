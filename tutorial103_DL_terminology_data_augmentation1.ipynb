{
  "nbformat": 4,
  "nbformat_minor": 0,
  "metadata": {
    "colab": {
      "name": "tutorial103_DL_terminology_data_augmentation1.ipynb",
      "provenance": [],
      "collapsed_sections": [],
      "mount_file_id": "10x4Gn4fW7FbS6CD_Htk7BfPGQ0GNLMpE",
      "authorship_tag": "ABX9TyOeDnfqWrubm0bioYdGML74",
      "include_colab_link": true
    },
    "kernelspec": {
      "name": "python3",
      "display_name": "Python 3"
    }
  },
  "cells": [
    {
      "cell_type": "markdown",
      "metadata": {
        "id": "view-in-github",
        "colab_type": "text"
      },
      "source": [
        "<a href=\"https://colab.research.google.com/github/bnsreenu/python_for_image_processing_APEER/blob/master/tutorial103_DL_terminology_data_augmentation1.ipynb\" target=\"_parent\"><img src=\"https://colab.research.google.com/assets/colab-badge.svg\" alt=\"Open In Colab\"/></a>"
      ]
    },
    {
      "cell_type": "markdown",
      "metadata": {
        "id": "RvzRnQtWs1HE"
      },
      "source": [
        "https://youtu.be/_bahDWWufCc"
      ]
    },
    {
      "cell_type": "markdown",
      "metadata": {
        "id": "j5-L652_HPPo"
      },
      "source": [
        "**Image Augmentation using ImageDataGenerator from keras**\n",
        "\n",
        "- Image shifts via the width_shift_range and height_shift_range arguments.\n",
        "- Image flips via the horizontal_flip and vertical_flip arguments.\n",
        "- Image rotations via the rotation_range argument\n",
        "- Image brightness via the brightness_range argument.\n",
        "- Image zoom via the zoom_range argument."
      ]
    },
    {
      "cell_type": "code",
      "metadata": {
        "id": "MYzwoTwKHB5j"
      },
      "source": [
        "from keras.preprocessing.image import ImageDataGenerator, array_to_img, img_to_array, load_img \n",
        "from skimage import io\n",
        "from numpy import expand_dims\n",
        "from matplotlib import pyplot as plt"
      ],
      "execution_count": null,
      "outputs": []
    },
    {
      "cell_type": "code",
      "metadata": {
        "id": "pHcMgosiHgSo"
      },
      "source": [
        "# Construct an instance of the ImageDataGenerator class\n",
        "# Pass the augmentation parameters through the constructor. \n",
        "datagen = ImageDataGenerator( \n",
        "        rotation_range = 45,      #Random rotation between 0 and 45\n",
        "        width_shift_range=[-20,20],  #min and max shift in pixels\n",
        "        height_shift_range=0.2,  #Can also define as % shift (min/max or %)\n",
        "        shear_range = 0.2, \n",
        "        zoom_range = 0.2, \n",
        "        horizontal_flip = True, \n",
        "        brightness_range = (0.5, 1.5), fill_mode='constant') #Values less than 1 darkens and greater brightens"
      ],
      "execution_count": null,
      "outputs": []
    },
    {
      "cell_type": "code",
      "metadata": {
        "id": "cGVf5EvdHje1"
      },
      "source": [
        "# Loading a sample image  \n",
        "#Can use any library to read images but they need to be in an array form\n",
        "x = io.imread('/content/drive/MyDrive/Colab Notebooks/data/mito_256.jpg')  #Array with shape (256, 256, 3)\n"
      ],
      "execution_count": null,
      "outputs": []
    },
    {
      "cell_type": "code",
      "metadata": {
        "id": "yWGFHd0pHmqW"
      },
      "source": [
        "# Reshape the input image \n",
        "x = x.reshape((1, ) + x.shape)  #Array with shape (1, 256, 256, 3)\n"
      ],
      "execution_count": null,
      "outputs": []
    },
    {
      "cell_type": "code",
      "metadata": {
        "id": "arwH-t7BHoT2"
      },
      "source": [
        "#Let us save images to get a feel for the augmented images.\n",
        "#Create an iterator either by using image dataset in memory (using flow() function)\n",
        "#or by using image dataset from a directory (using flow_from_directory)\n",
        "#from directory can beuseful if subdirectories are organized by class\n",
        "   \n",
        "# Generating and saving 10 augmented samples  \n",
        "# using the above defined parameters.  \n",
        "#Again, flow generates batches of randomly augmented images\n",
        "i = 0\n",
        "for batch in datagen.flow(x, batch_size = 1, \n",
        "                          save_to_dir ='/content/drive/MyDrive/Colab Notebooks/data/mito_augmented',  \n",
        "                          save_prefix ='aug', save_format ='jpeg'): \n",
        "    \n",
        "    \n",
        "    i += 1\n",
        "    if i > 20: \n",
        "        break"
      ],
      "execution_count": null,
      "outputs": []
    },
    {
      "cell_type": "code",
      "metadata": {
        "id": "k5EroWURHuYD"
      },
      "source": [
        "#Once data is augmented, you can use it to fit a model via: fit.generator (old keras) or model.fit (newer versions)\n"
      ],
      "execution_count": null,
      "outputs": []
    }
  ]
}